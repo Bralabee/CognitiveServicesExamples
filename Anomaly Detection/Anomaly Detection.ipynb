{
 "cells": [
  {
   "cell_type": "code",
   "execution_count": null,
   "metadata": {},
   "outputs": [],
   "source": [
    "!pip install azure-cognitiveservices-anomalydetector"
   ]
  },
  {
   "cell_type": "code",
   "execution_count": 13,
   "metadata": {},
   "outputs": [],
   "source": [
    "from azure.cognitiveservices.anomalydetector import AnomalyDetectorClient\n",
    "from azure.cognitiveservices.anomalydetector.models import Request, Point, Granularity\n",
    "from msrest.authentication import CognitiveServicesCredentials\n",
    "import pandas as pd\n",
    "import json\n",
    "import pytz\n",
    "\n",
    "config = json.load(open(\"config.json\"))\n",
    "\n",
    "key = config[\"key\"]\n",
    "endpoint = config[\"endpoint\"]"
   ]
  },
  {
   "cell_type": "code",
   "execution_count": 9,
   "metadata": {},
   "outputs": [],
   "source": [
    "client = AnomalyDetectorClient(endpoint, CognitiveServicesCredentials(key))"
   ]
  },
  {
   "cell_type": "code",
   "execution_count": 34,
   "metadata": {},
   "outputs": [
    {
     "data": {
      "text/html": [
       "<div>\n",
       "<style scoped>\n",
       "    .dataframe tbody tr th:only-of-type {\n",
       "        vertical-align: middle;\n",
       "    }\n",
       "\n",
       "    .dataframe tbody tr th {\n",
       "        vertical-align: top;\n",
       "    }\n",
       "\n",
       "    .dataframe thead th {\n",
       "        text-align: right;\n",
       "    }\n",
       "</style>\n",
       "<table border=\"1\" class=\"dataframe\">\n",
       "  <thead>\n",
       "    <tr style=\"text-align: right;\">\n",
       "      <th></th>\n",
       "      <th>Datetime</th>\n",
       "      <th>Energy</th>\n",
       "    </tr>\n",
       "  </thead>\n",
       "  <tbody>\n",
       "    <tr>\n",
       "      <th>0</th>\n",
       "      <td>2011-12-31 01:00:00</td>\n",
       "      <td>9970.0</td>\n",
       "    </tr>\n",
       "    <tr>\n",
       "      <th>1</th>\n",
       "      <td>2011-12-31 02:00:00</td>\n",
       "      <td>9428.0</td>\n",
       "    </tr>\n",
       "    <tr>\n",
       "      <th>2</th>\n",
       "      <td>2011-12-31 03:00:00</td>\n",
       "      <td>9059.0</td>\n",
       "    </tr>\n",
       "    <tr>\n",
       "      <th>3</th>\n",
       "      <td>2011-12-31 04:00:00</td>\n",
       "      <td>8817.0</td>\n",
       "    </tr>\n",
       "    <tr>\n",
       "      <th>4</th>\n",
       "      <td>2011-12-31 05:00:00</td>\n",
       "      <td>8743.0</td>\n",
       "    </tr>\n",
       "  </tbody>\n",
       "</table>\n",
       "</div>"
      ],
      "text/plain": [
       "             Datetime  Energy\n",
       "0 2011-12-31 01:00:00  9970.0\n",
       "1 2011-12-31 02:00:00  9428.0\n",
       "2 2011-12-31 03:00:00  9059.0\n",
       "3 2011-12-31 04:00:00  8817.0\n",
       "4 2011-12-31 05:00:00  8743.0"
      ]
     },
     "execution_count": 34,
     "metadata": {},
     "output_type": "execute_result"
    }
   ],
   "source": [
    "df = pd.read_csv(\"energy_hourly.csv\", delimiter=',', parse_dates=[\"Datetime\"])\n",
    "df.head()"
   ]
  },
  {
   "cell_type": "code",
   "execution_count": 35,
   "metadata": {},
   "outputs": [
    {
     "data": {
      "text/html": [
       "<div>\n",
       "<style scoped>\n",
       "    .dataframe tbody tr th:only-of-type {\n",
       "        vertical-align: middle;\n",
       "    }\n",
       "\n",
       "    .dataframe tbody tr th {\n",
       "        vertical-align: top;\n",
       "    }\n",
       "\n",
       "    .dataframe thead th {\n",
       "        text-align: right;\n",
       "    }\n",
       "</style>\n",
       "<table border=\"1\" class=\"dataframe\">\n",
       "  <thead>\n",
       "    <tr style=\"text-align: right;\">\n",
       "      <th></th>\n",
       "      <th>Datetime</th>\n",
       "      <th>Energy</th>\n",
       "    </tr>\n",
       "  </thead>\n",
       "  <tbody>\n",
       "    <tr>\n",
       "      <th>8734</th>\n",
       "      <td>2011-01-01 01:00:00</td>\n",
       "      <td>9631.0</td>\n",
       "    </tr>\n",
       "    <tr>\n",
       "      <th>8735</th>\n",
       "      <td>2011-01-01 02:00:00</td>\n",
       "      <td>9273.0</td>\n",
       "    </tr>\n",
       "    <tr>\n",
       "      <th>8736</th>\n",
       "      <td>2011-01-01 03:00:00</td>\n",
       "      <td>9011.0</td>\n",
       "    </tr>\n",
       "    <tr>\n",
       "      <th>8737</th>\n",
       "      <td>2011-01-01 04:00:00</td>\n",
       "      <td>8741.0</td>\n",
       "    </tr>\n",
       "    <tr>\n",
       "      <th>8738</th>\n",
       "      <td>2011-01-01 05:00:00</td>\n",
       "      <td>8694.0</td>\n",
       "    </tr>\n",
       "  </tbody>\n",
       "</table>\n",
       "</div>"
      ],
      "text/plain": [
       "                Datetime  Energy\n",
       "8734 2011-01-01 01:00:00  9631.0\n",
       "8735 2011-01-01 02:00:00  9273.0\n",
       "8736 2011-01-01 03:00:00  9011.0\n",
       "8737 2011-01-01 04:00:00  8741.0\n",
       "8738 2011-01-01 05:00:00  8694.0"
      ]
     },
     "execution_count": 35,
     "metadata": {},
     "output_type": "execute_result"
    }
   ],
   "source": [
    "df = df.sort_values(by=[\"Datetime\"])\n",
    "df.head()"
   ]
  },
  {
   "cell_type": "code",
   "execution_count": 36,
   "metadata": {},
   "outputs": [
    {
     "data": {
      "text/html": [
       "<div>\n",
       "<style scoped>\n",
       "    .dataframe tbody tr th:only-of-type {\n",
       "        vertical-align: middle;\n",
       "    }\n",
       "\n",
       "    .dataframe tbody tr th {\n",
       "        vertical-align: top;\n",
       "    }\n",
       "\n",
       "    .dataframe thead th {\n",
       "        text-align: right;\n",
       "    }\n",
       "</style>\n",
       "<table border=\"1\" class=\"dataframe\">\n",
       "  <thead>\n",
       "    <tr style=\"text-align: right;\">\n",
       "      <th></th>\n",
       "      <th>Datetime</th>\n",
       "      <th>Energy</th>\n",
       "    </tr>\n",
       "  </thead>\n",
       "  <tbody>\n",
       "    <tr>\n",
       "      <th>8734</th>\n",
       "      <td>2011-01-01 01:00:00+00:00</td>\n",
       "      <td>9631.0</td>\n",
       "    </tr>\n",
       "    <tr>\n",
       "      <th>8735</th>\n",
       "      <td>2011-01-01 02:00:00+00:00</td>\n",
       "      <td>9273.0</td>\n",
       "    </tr>\n",
       "    <tr>\n",
       "      <th>8736</th>\n",
       "      <td>2011-01-01 03:00:00+00:00</td>\n",
       "      <td>9011.0</td>\n",
       "    </tr>\n",
       "    <tr>\n",
       "      <th>8737</th>\n",
       "      <td>2011-01-01 04:00:00+00:00</td>\n",
       "      <td>8741.0</td>\n",
       "    </tr>\n",
       "    <tr>\n",
       "      <th>8738</th>\n",
       "      <td>2011-01-01 05:00:00+00:00</td>\n",
       "      <td>8694.0</td>\n",
       "    </tr>\n",
       "  </tbody>\n",
       "</table>\n",
       "</div>"
      ],
      "text/plain": [
       "                      Datetime  Energy\n",
       "8734 2011-01-01 01:00:00+00:00  9631.0\n",
       "8735 2011-01-01 02:00:00+00:00  9273.0\n",
       "8736 2011-01-01 03:00:00+00:00  9011.0\n",
       "8737 2011-01-01 04:00:00+00:00  8741.0\n",
       "8738 2011-01-01 05:00:00+00:00  8694.0"
      ]
     },
     "execution_count": 36,
     "metadata": {},
     "output_type": "execute_result"
    }
   ],
   "source": [
    "df[\"Datetime\"] = df[\"Datetime\"].dt.tz_localize(pytz.utc)\n",
    "df.head()"
   ]
  },
  {
   "cell_type": "code",
   "execution_count": 20,
   "metadata": {},
   "outputs": [],
   "source": [
    "series = []\n",
    "for index, row in df.iterrows():\n",
    "    series.append(Point(timestamp=row[0], value=row[1]))"
   ]
  },
  {
   "cell_type": "code",
   "execution_count": 24,
   "metadata": {},
   "outputs": [],
   "source": [
    "request = Request(series=series[0:3000], granularity=Granularity.hourly)"
   ]
  },
  {
   "cell_type": "code",
   "execution_count": 25,
   "metadata": {},
   "outputs": [],
   "source": [
    "response = client.entire_detect(request)"
   ]
  },
  {
   "cell_type": "code",
   "execution_count": 26,
   "metadata": {},
   "outputs": [
    {
     "data": {
      "text/plain": [
       "True"
      ]
     },
     "execution_count": 26,
     "metadata": {},
     "output_type": "execute_result"
    }
   ],
   "source": [
    "True in response.is_anomaly"
   ]
  },
  {
   "cell_type": "code",
   "execution_count": null,
   "metadata": {},
   "outputs": [],
   "source": [
    "response.is_anomaly"
   ]
  },
  {
   "cell_type": "code",
   "execution_count": 32,
   "metadata": {},
   "outputs": [
    {
     "name": "stdout",
     "output_type": "stream",
     "text": [
      "0 9631.0 2011-01-01 01:00:00+00:00\n",
      "3 8741.0 2011-01-01 04:00:00+00:00\n",
      "4 8694.0 2011-01-01 05:00:00+00:00\n",
      "5 8711.0 2011-01-01 06:00:00+00:00\n",
      "6 8943.0 2011-01-01 07:00:00+00:00\n",
      "7 9222.0 2011-01-01 08:00:00+00:00\n",
      "8 9430.0 2011-01-01 09:00:00+00:00\n",
      "9 9670.0 2011-01-01 10:00:00+00:00\n",
      "10 10125.0 2011-01-01 11:00:00+00:00\n",
      "774 10475.0 2011-02-02 07:00:00+00:00\n",
      "775 11086.0 2011-02-02 08:00:00+00:00\n",
      "776 11147.0 2011-02-02 09:00:00+00:00\n",
      "777 11352.0 2011-02-02 10:00:00+00:00\n",
      "778 11439.0 2011-02-02 11:00:00+00:00\n",
      "779 11394.0 2011-02-02 12:00:00+00:00\n",
      "780 11318.0 2011-02-02 13:00:00+00:00\n",
      "781 11176.0 2011-02-02 14:00:00+00:00\n",
      "782 11045.0 2011-02-02 15:00:00+00:00\n",
      "783 10999.0 2011-02-02 16:00:00+00:00\n",
      "784 11179.0 2011-02-02 17:00:00+00:00\n",
      "785 11605.0 2011-02-02 18:00:00+00:00\n"
     ]
    }
   ],
   "source": [
    "for i in range(len(response.is_anomaly)):\n",
    "    if response.is_anomaly[i]:\n",
    "        print(i, df.iloc[i][\"Energy\"], df.iloc[i][\"Datetime\"])"
   ]
  }
 ],
 "metadata": {
  "kernelspec": {
   "display_name": "Python 3",
   "language": "python",
   "name": "python3"
  },
  "language_info": {
   "codemirror_mode": {
    "name": "ipython",
    "version": 3
   },
   "file_extension": ".py",
   "mimetype": "text/x-python",
   "name": "python",
   "nbconvert_exporter": "python",
   "pygments_lexer": "ipython3",
   "version": "3.6.8"
  }
 },
 "nbformat": 4,
 "nbformat_minor": 2
}
