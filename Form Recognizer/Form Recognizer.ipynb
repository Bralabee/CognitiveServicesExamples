{
 "cells": [
  {
   "cell_type": "code",
   "execution_count": 1,
   "metadata": {},
   "outputs": [
    {
     "name": "stdout",
     "output_type": "stream",
     "text": [
      "Collecting azure-ai-formrecognizer\n",
      "  Using cached https://files.pythonhosted.org/packages/44/f0/d7ea506b59a6a4040f833b89e0e39c0eaf6b8ff9a7844124b7a4ed22c255/azure_ai_formrecognizer-3.0.0-py2.py3-none-any.whl\n",
      "Collecting azure-core<2.0.0,>=1.6.0 (from azure-ai-formrecognizer)\n",
      "  Using cached https://files.pythonhosted.org/packages/9c/8c/6463dc620629d71c02f3f1a7dc30aab8e4f1a08ef64726cc3dd4f7949096/azure_core-1.8.1-py2.py3-none-any.whl\n",
      "Collecting msrest>=0.6.12 (from azure-ai-formrecognizer)\n",
      "  Using cached https://files.pythonhosted.org/packages/fa/f5/9e315fe8cb985b0ce052b34bcb767883dc739f46fadb62f05a7e6d6eedbe/msrest-0.6.19-py2.py3-none-any.whl\n",
      "Requirement already satisfied: six>=1.6 in c:\\users\\chron\\anaconda3\\lib\\site-packages (from azure-ai-formrecognizer) (1.12.0)\n",
      "Requirement already satisfied: requests>=2.18.4 in c:\\users\\chron\\anaconda3\\lib\\site-packages (from azure-core<2.0.0,>=1.6.0->azure-ai-formrecognizer) (2.22.0)\n",
      "Requirement already satisfied: isodate>=0.6.0 in c:\\users\\chron\\anaconda3\\lib\\site-packages (from msrest>=0.6.12->azure-ai-formrecognizer) (0.6.0)\n",
      "Requirement already satisfied: certifi>=2017.4.17 in c:\\users\\chron\\anaconda3\\lib\\site-packages (from msrest>=0.6.12->azure-ai-formrecognizer) (2020.4.5.1)\n",
      "Requirement already satisfied: requests-oauthlib>=0.5.0 in c:\\users\\chron\\anaconda3\\lib\\site-packages (from msrest>=0.6.12->azure-ai-formrecognizer) (0.8.0)\n",
      "Requirement already satisfied: chardet<3.1.0,>=3.0.2 in c:\\users\\chron\\anaconda3\\lib\\site-packages (from requests>=2.18.4->azure-core<2.0.0,>=1.6.0->azure-ai-formrecognizer) (3.0.4)\n",
      "Requirement already satisfied: idna<2.9,>=2.5 in c:\\users\\chron\\anaconda3\\lib\\site-packages (from requests>=2.18.4->azure-core<2.0.0,>=1.6.0->azure-ai-formrecognizer) (2.8)\n",
      "Requirement already satisfied: urllib3!=1.25.0,!=1.25.1,<1.26,>=1.21.1 in c:\\users\\chron\\anaconda3\\lib\\site-packages (from requests>=2.18.4->azure-core<2.0.0,>=1.6.0->azure-ai-formrecognizer) (1.24.2)\n",
      "Requirement already satisfied: oauthlib>=0.6.2 in c:\\users\\chron\\anaconda3\\lib\\site-packages (from requests-oauthlib>=0.5.0->msrest>=0.6.12->azure-ai-formrecognizer) (2.0.7)\n",
      "Installing collected packages: azure-core, msrest, azure-ai-formrecognizer\n",
      "  Found existing installation: azure-core 1.3.0\n",
      "    Uninstalling azure-core-1.3.0:\n",
      "      Successfully uninstalled azure-core-1.3.0\n",
      "  Found existing installation: msrest 0.6.11\n",
      "    Uninstalling msrest-0.6.11:\n",
      "      Successfully uninstalled msrest-0.6.11\n",
      "Successfully installed azure-ai-formrecognizer-3.0.0 azure-core-1.8.1 msrest-0.6.19\n"
     ]
    },
    {
     "name": "stderr",
     "output_type": "stream",
     "text": [
      "ERROR: botframework-connector 4.0.0a6 has requirement msrest==0.4.29, but you'll have msrest 0.6.19 which is incompatible.\n",
      "ERROR: botbuilder-schema 4.0.0a6 has requirement msrest==0.4.29, but you'll have msrest 0.6.19 which is incompatible.\n"
     ]
    }
   ],
   "source": [
    "!pip install azure-ai-formrecognizer"
   ]
  },
  {
   "cell_type": "code",
   "execution_count": 3,
   "metadata": {},
   "outputs": [],
   "source": [
    "from azure.ai.formrecognizer import FormRecognizerClient, FormTrainingClient\n",
    "from azure.core.credentials import AzureKeyCredential\n",
    "import json\n",
    "\n",
    "config = json.load(open(\"config.json\"))"
   ]
  },
  {
   "cell_type": "code",
   "execution_count": 6,
   "metadata": {},
   "outputs": [],
   "source": [
    "client = FormRecognizerClient(config[\"endpoint\"], AzureKeyCredential(config[\"key\"]))"
   ]
  },
  {
   "cell_type": "markdown",
   "metadata": {},
   "source": [
    "## Reading Receipts\n",
    "\n",
    "[Sample](https://raw.githubusercontent.com/Azure/azure-sdk-for-python/master/sdk/formrecognizer/azure-ai-formrecognizer/tests/sample_forms/receipt/contoso-allinone.jpg)"
   ]
  },
  {
   "cell_type": "code",
   "execution_count": 7,
   "metadata": {},
   "outputs": [],
   "source": [
    "receiptUrl = \"https://raw.githubusercontent.com/Azure/azure-sdk-for-python/master/sdk/formrecognizer/azure-ai-formrecognizer/tests/sample_forms/receipt/contoso-allinone.jpg\""
   ]
  },
  {
   "cell_type": "code",
   "execution_count": 8,
   "metadata": {},
   "outputs": [],
   "source": [
    "receipt_recognizer = client.begin_recognize_receipts_from_url(receiptUrl)\n",
    "\n",
    "result = receipt_recognizer.result()"
   ]
  },
  {
   "cell_type": "code",
   "execution_count": 9,
   "metadata": {},
   "outputs": [
    {
     "name": "stdout",
     "output_type": "stream",
     "text": [
      "ReceiptType: Itemized has confidence 0.692\n",
      "MerchantName: Contoso Contoso has confidence 0.613\n",
      "MerchantAddress: 123 Main Street Redmond, WA 98052 has confidence 0.99\n",
      "MerchantPhoneNumber: +19876543210 has confidence 0.99\n",
      "TransactionDate: 2019-06-10 has confidence 0.99\n",
      "TransactionTime: 13:59:00 has confidence 0.977\n",
      "Receipt Items:\n",
      "...Item #1\n",
      "......Quantity: 1.0 has confidence 0.92\n",
      "......Name: Cappuccino has confidence 0.923\n",
      "......TotalPrice: 2.2 has confidence 0.918\n",
      "...Item #2\n",
      "......Quantity: 1.0 has confidence 0.858\n",
      "......Name: BACON & EGGS has confidence 0.916\n",
      "......TotalPrice: 9.5 has confidence 0.916\n",
      "Subtotal: 11.7 has confidence 0.955\n",
      "Tax: 1.17 has confidence 0.979\n",
      "Tip: 1.63 has confidence 0.941\n",
      "Total: 14.5 has confidence 0.985\n"
     ]
    }
   ],
   "source": [
    "for receipt in result:\n",
    "    for name, field in receipt.fields.items():\n",
    "        if name == \"Items\":\n",
    "            print(\"Receipt Items:\")\n",
    "            for idx, items in enumerate(field.value):\n",
    "                print(\"...Item #{}\".format(idx + 1))\n",
    "                for item_name, item in items.value.items():\n",
    "                    print(\"......{}: {} has confidence {}\".format(item_name, item.value, item.confidence))\n",
    "        else:\n",
    "            print(\"{}: {} has confidence {}\".format(name, field.value, field.confidence))"
   ]
  },
  {
   "cell_type": "markdown",
   "metadata": {},
   "source": [
    "## Reading Forms\n",
    "\n",
    "[Sample](https://raw.githubusercontent.com/Azure/azure-sdk-for-python/master/sdk/formrecognizer/azure-ai-formrecognizer/tests/sample_forms/forms/Invoice_1.pdf)"
   ]
  },
  {
   "cell_type": "code",
   "execution_count": 17,
   "metadata": {},
   "outputs": [],
   "source": [
    "sample_form = \"https://raw.githubusercontent.com/Azure/azure-sdk-for-python/master/sdk/formrecognizer/azure-ai-formrecognizer/tests/sample_forms/forms/Invoice_1.pdf\""
   ]
  },
  {
   "cell_type": "code",
   "execution_count": 20,
   "metadata": {},
   "outputs": [],
   "source": [
    "form_recognizer = client.begin_recognize_content_from_url(sample_form)\n",
    "\n",
    "result = form_recognizer.result()"
   ]
  },
  {
   "cell_type": "code",
   "execution_count": 21,
   "metadata": {},
   "outputs": [
    {
     "data": {
      "text/plain": [
       "FormTable(page_number=1, cells=[FormTableCell(text=Invoice Number, row_index=0, column_index=0, row_span=1, column_span=1, bounding_box=[Point(x=0.5075, y=2.8088), Point(x=1.9061, y=2.8088), Point(x=1.9061, y=3.3219), Point(x=0.5075, y=3.3219)], confidence=1.0, is_header=False, is_footer=False, page_number=1, field_elements=[FormWord(text=Invoice, bounding_box=[Point(x=0.5439, y=2.8733), Point(x=1.0098, y=2.8733), Point(x=1.0098, y=2.9754), Point(x=0.5439, y=2.9754)], confidence=1.0, page_number=1, kind=word), FormWord(text=Number, bounding_box=[Point(x=1.0611, y=2.8743), Point(x=1.5729, y=2.8743), Point(x=1.5729, y=2.9754), Point(x=1.0611, y=2.9754)], confidence=1.0, page_number=1, kind=word)]), FormTableCell(text=Invoice Date, row_index=0, column_index=1, row_span=1, column_span=1, bounding_box=[Point(x=1.9061, y=2.8088), Point(x=3.3074, y=2.8088), Point(x=3.3074, y=3.3219), Point(x=1.9061, y=3.3219)], confidence=1.0, is_header=False, is_footer=False, page_number=1, field_elements=[FormWord(text=Invoice, bo"
      ]
     },
     "execution_count": 21,
     "metadata": {},
     "output_type": "execute_result"
    }
   ],
   "source": [
    "page = result[0].tables[0]\n",
    "\n",
    "page"
   ]
  },
  {
   "cell_type": "code",
   "execution_count": 26,
   "metadata": {},
   "outputs": [
    {
     "name": "stdout",
     "output_type": "stream",
     "text": [
      "Row Name:\n",
      "Text: Invoice Number - Location: [Point(x=0.5075, y=2.8088), Point(x=1.9061, y=2.8088), Point(x=1.9061, y=3.3219), Point(x=0.5075, y=3.3219)] - Confidence 1.0\n",
      "Row Name:\n",
      "Text: Invoice Date - Location: [Point(x=1.9061, y=2.8088), Point(x=3.3074, y=2.8088), Point(x=3.3074, y=3.3219), Point(x=1.9061, y=3.3219)] - Confidence 1.0\n",
      "Row Name:\n",
      "Text: Invoice Due Date - Location: [Point(x=3.3074, y=2.8088), Point(x=4.7074, y=2.8088), Point(x=4.7074, y=3.3219), Point(x=3.3074, y=3.3219)] - Confidence 1.0\n",
      "Row Name:\n",
      "Text: Charges - Location: [Point(x=4.7074, y=2.8088), Point(x=5.386, y=2.8088), Point(x=5.386, y=3.3219), Point(x=4.7074, y=3.3219)] - Confidence 1.0\n",
      "Row Name:\n",
      "Text: VAT ID - Location: [Point(x=6.1051, y=2.8088), Point(x=7.5038, y=2.8088), Point(x=7.5038, y=3.3219), Point(x=6.1051, y=3.3219)] - Confidence 1.0\n",
      "...Item:\n",
      "...Text: 34278587 - Location: [Point(x=0.5075, y=3.3219), Point(x=1.9061, y=3.3219), Point(x=1.9061, y=3.859), Point(x=0.5075, y=3.859)] - Confidence 1.0\n",
      "...Item:\n",
      "...Text: 6/18/2017 - Location: [Point(x=1.9061, y=3.3219), Point(x=3.3074, y=3.3219), Point(x=3.3074, y=3.859), Point(x=1.9061, y=3.859)] - Confidence 1.0\n",
      "...Item:\n",
      "...Text: 6/24/2017 - Location: [Point(x=3.3074, y=3.3219), Point(x=4.7074, y=3.3219), Point(x=4.7074, y=3.859), Point(x=3.3074, y=3.859)] - Confidence 1.0\n",
      "...Item:\n",
      "...Text: $56,651.49 - Location: [Point(x=4.7074, y=3.3219), Point(x=6.1051, y=3.3219), Point(x=6.1051, y=3.859), Point(x=4.7074, y=3.859)] - Confidence 1.0\n",
      "...Item:\n",
      "...Text: PT - Location: [Point(x=6.1051, y=3.3219), Point(x=7.5038, y=3.3219), Point(x=7.5038, y=3.859), Point(x=6.1051, y=3.859)] - Confidence 1.0\n"
     ]
    }
   ],
   "source": [
    "for item in page.cells:\n",
    "    if (item.row_index == 0):\n",
    "        print(\"Row Name:\")\n",
    "        print(f\"Text: {item.text} - Location: {item.bounding_box} - Confidence {item.confidence}\")\n",
    "    else:\n",
    "        print(\"...Item:\")\n",
    "        print(f\"...Text: {item.text} - Location: {item.bounding_box} - Confidence {item.confidence}\")"
   ]
  },
  {
   "cell_type": "markdown",
   "metadata": {},
   "source": [
    "## Reading Business Cards"
   ]
  },
  {
   "cell_type": "code",
   "execution_count": 33,
   "metadata": {},
   "outputs": [],
   "source": [
    "from requests import get, post"
   ]
  },
  {
   "cell_type": "code",
   "execution_count": 13,
   "metadata": {},
   "outputs": [],
   "source": [
    "endpoint = config['endpoint']"
   ]
  },
  {
   "cell_type": "code",
   "execution_count": 14,
   "metadata": {},
   "outputs": [],
   "source": [
    "url = f\"{endpoint}/formrecognizer/v2.1-preview.1/prebuilt/businessCard/analyze\""
   ]
  },
  {
   "cell_type": "code",
   "execution_count": 15,
   "metadata": {},
   "outputs": [],
   "source": [
    "headers = {\n",
    "    \"Content-Type\": \"image/png\",\n",
    "    \"Ocp-Apim-Subscription-Key\": config[\"key\"]\n",
    "}"
   ]
  },
  {
   "cell_type": "code",
   "execution_count": 18,
   "metadata": {},
   "outputs": [],
   "source": [
    "params = {\n",
    "    \"includeTextDetails\": True\n",
    "}"
   ]
  },
  {
   "cell_type": "code",
   "execution_count": 19,
   "metadata": {},
   "outputs": [],
   "source": [
    "with open(\"businesscard-sample.png\", \"rb\") as f:\n",
    "    data = f.read()"
   ]
  },
  {
   "cell_type": "code",
   "execution_count": 23,
   "metadata": {},
   "outputs": [],
   "source": [
    "response = post(url, data=data, headers=headers, params=params)"
   ]
  },
  {
   "cell_type": "code",
   "execution_count": 32,
   "metadata": {},
   "outputs": [
    {
     "name": "stdout",
     "output_type": "stream",
     "text": [
      "POST analyze succeeded:\n",
      "{'Content-Length': '0', 'Operation-Location': 'https://customformrecognizer.cognitiveservices.azure.com/formrecognizer/v2.1-preview.1/prebuilt/businessCard/analyzeResults/89c25e7d-2af0-40e0-8fec-db55099baa01', 'x-envoy-upstream-service-time': '94', 'apim-request-id': '89c25e7d-2af0-40e0-8fec-db55099baa01', 'Strict-Transport-Security': 'max-age=31536000; includeSubDomains; preload', 'x-content-type-options': 'nosniff', 'Date': 'Tue, 13 Oct 2020 07:20:41 GMT'}\n"
     ]
    }
   ],
   "source": [
    "if response.status_code != 202:\n",
    "        print(\"POST analyze failed:\\n%s\" % response.text)\n",
    "\n",
    "print(\"POST analyze succeeded:\\n%s\" % response.headers)"
   ]
  },
  {
   "cell_type": "code",
   "execution_count": 35,
   "metadata": {},
   "outputs": [
    {
     "data": {
      "text/plain": [
       "'https://customformrecognizer.cognitiveservices.azure.com/formrecognizer/v2.1-preview.1/prebuilt/businessCard/analyzeResults/89c25e7d-2af0-40e0-8fec-db55099baa01'"
      ]
     },
     "execution_count": 35,
     "metadata": {},
     "output_type": "execute_result"
    }
   ],
   "source": [
    "get_url = response.headers[\"operation-location\"]\n",
    "get_url"
   ]
  },
  {
   "cell_type": "code",
   "execution_count": 36,
   "metadata": {},
   "outputs": [],
   "source": [
    "get_response = get(get_url, headers = { \"Ocp-Apim-Subscription-Key\": config[\"key\"] })"
   ]
  },
  {
   "cell_type": "code",
   "execution_count": 37,
   "metadata": {},
   "outputs": [
    {
     "data": {
      "text/plain": [
       "{'status': 'succeeded',\n",
       " 'createdDateTime': '2020-10-13T07:20:42Z',\n",
       " 'lastUpdatedDateTime': '2020-10-13T07:20:43Z',\n",
       " 'analyzeResult': {'version': '2.1.0',\n",
       "  'readResults': [{'page': 1,\n",
       "    'angle': 0.1484,\n",
       "    'width': 521,\n",
       "    'height': 338,\n",
       "    'unit': 'pixel',\n",
       "    'lines': [{'text': 'John Doe',\n",
       "      'boundingBox': [101, 70, 213, 70, 213, 95, 101, 94],\n",
       "      'words': [{'text': 'John',\n",
       "        'boundingBox': [103, 70, 157, 72, 157, 95, 102, 94],\n",
       "        'confidence': 0.959},\n",
       "       {'text': 'Doe',\n",
       "        'boundingBox': [163, 72, 212, 71, 213, 95, 163, 95],\n",
       "        'confidence': 0.958}]},\n",
       "     {'text': 'Manager',\n",
       "      'boundingBox': [101, 101, 175, 102, 175, 120, 100, 118],\n",
       "      'words': [{'text': 'Manager',\n",
       "        'boundingBox': [101, 101, 176, 103, 175, 120, 101, 118],\n",
       "        'confidence': 0.959}]},\n",
       "     {'text': 'Phone: +41 11 555 43 45',\n",
       "      'boundingBox': [255, 151, 421, 150, 421, 165, 255, 166],\n",
       "      'words': [{'text': 'Phone:',\n",
       "        'boundingBox': [256, 152, 301, 152, 301, 166, 256, 166],\n",
       "        'confidence': 0.959},\n",
       "       {'text': '+41',\n",
       "        'boundingBox': [304, 152, 331, 152, 331, 166, 304, 166],\n",
       "        'confidence': 0.958},\n",
       "       {'text': '11',\n",
       "        'boundingBox': [334, 151, 350, 151, 350, 165, 334, 166],\n",
       "        'confidence': 0.883},\n",
       "       {'text': '555',\n",
       "        'boundingBox': [353, 151, 380, 151, 380, 165, 353, 165],\n",
       "        'confidence': 0.958},\n",
       "       {'text': '43',\n",
       "        'boundingBox': [383, 151, 400, 151, 400, 166, 383, 165],\n",
       "        'confidence': 0.958},\n",
       "       {'text': '45',\n",
       "        'boundingBox': [403, 151, 420, 150, 420, 166, 403, 166],\n",
       "        'confidence': 0.958}]},\n",
       "     {'text': 'Mobile: +41 99 555 12 14',\n",
       "      'boundingBox': [256, 166, 423, 165, 423, 180, 256, 181],\n",
       "      'words': [{'text': 'Mobile:',\n",
       "        'boundingBox': [256, 167, 305, 167, 305, 181, 256, 181],\n",
       "        'confidence': 0.959},\n",
       "       {'text': '+41',\n",
       "        'boundingBox': [308, 166, 335, 166, 335, 181, 308, 181],\n",
       "        'confidence': 0.917},\n",
       "       {'text': '99',\n",
       "        'boundingBox': [338, 166, 354, 166, 354, 181, 338, 181],\n",
       "        'confidence': 0.958},\n",
       "       {'text': '555',\n",
       "        'boundingBox': [357, 166, 384, 166, 384, 181, 357, 181],\n",
       "        'confidence': 0.915},\n",
       "       {'text': '12',\n",
       "        'boundingBox': [387, 166, 404, 166, 404, 181, 387, 181],\n",
       "        'confidence': 0.949},\n",
       "       {'text': '14',\n",
       "        'boundingBox': [408, 166, 424, 166, 424, 181, 408, 181],\n",
       "        'confidence': 0.958}]},\n",
       "     {'text': 'Email: john.doe@example.com',\n",
       "      'boundingBox': [256, 181, 449, 182, 449, 196, 256, 196],\n",
       "      'words': [{'text': 'Email:',\n",
       "        'boundingBox': [258, 182, 294, 182, 293, 197, 257, 197],\n",
       "        'confidence': 0.959},\n",
       "       {'text': 'john.doe@example.com',\n",
       "        'boundingBox': [297, 182, 446, 183, 446, 196, 296, 197],\n",
       "        'confidence': 0.861}]},\n",
       "     {'text': 'cardurl.com/johndoe',\n",
       "      'boundingBox': [255, 198, 401, 197, 401, 213, 255, 214],\n",
       "      'words': [{'text': 'cardurl.com/johndoe',\n",
       "        'boundingBox': [256, 199, 402, 198, 402, 214, 256, 214],\n",
       "        'confidence': 0.868}]},\n",
       "     {'text': 'Example Inc.',\n",
       "      'boundingBox': [254, 227, 336, 227, 336, 241, 254, 241],\n",
       "      'words': [{'text': 'Example',\n",
       "        'boundingBox': [256, 227, 310, 227, 310, 242, 255, 242],\n",
       "        'confidence': 0.959},\n",
       "       {'text': 'Inc.',\n",
       "        'boundingBox': [313, 227, 336, 227, 336, 241, 313, 242],\n",
       "        'confidence': 0.849}]},\n",
       "     {'text': 'Mountain drive 22A',\n",
       "      'boundingBox': [256, 241, 384, 241, 384, 256, 256, 256],\n",
       "      'words': [{'text': 'Mountain',\n",
       "        'boundingBox': [257, 242, 319, 241, 319, 256, 257, 256],\n",
       "        'confidence': 0.959},\n",
       "       {'text': 'drive',\n",
       "        'boundingBox': [322, 241, 355, 241, 355, 256, 322, 256],\n",
       "        'confidence': 0.959},\n",
       "       {'text': '22A',\n",
       "        'boundingBox': [357, 241, 384, 241, 384, 257, 357, 256],\n",
       "        'confidence': 0.915}]},\n",
       "     {'text': '24300 Someplace',\n",
       "      'boundingBox': [256, 256, 373, 257, 373, 272, 256, 271],\n",
       "      'words': [{'text': '24300',\n",
       "        'boundingBox': [257, 256, 300, 256, 300, 271, 257, 272],\n",
       "        'confidence': 0.954},\n",
       "       {'text': 'Someplace',\n",
       "        'boundingBox': [303, 256, 373, 258, 372, 272, 303, 271],\n",
       "        'confidence': 0.959}]},\n",
       "     {'text': 'www.example.com',\n",
       "      'boundingBox': [255, 272, 376, 273, 376, 286, 255, 286],\n",
       "      'words': [{'text': 'www.example.com',\n",
       "        'boundingBox': [256, 273, 372, 273, 372, 287, 256, 287],\n",
       "        'confidence': 0.914}]}]}],\n",
       "  'documentResults': [{'docType': 'prebuilt:businesscard',\n",
       "    'pageRange': [1, 1],\n",
       "    'fields': {'ContactNames': {'type': 'array',\n",
       "      'valueArray': [{'type': 'object',\n",
       "        'valueObject': {'FirstName': {'type': 'string',\n",
       "          'valueString': 'John',\n",
       "          'text': 'John',\n",
       "          'boundingBox': [103, 70, 157, 72, 157, 95, 102, 94],\n",
       "          'page': 1,\n",
       "          'elements': ['#/readResults/0/lines/0/words/0']},\n",
       "         'LastName': {'type': 'string',\n",
       "          'valueString': 'Doe',\n",
       "          'text': 'Doe',\n",
       "          'boundingBox': [163, 72, 212, 71, 213, 95, 163, 95],\n",
       "          'page': 1,\n",
       "          'elements': ['#/readResults/0/lines/0/words/1']}},\n",
       "        'text': 'John Doe',\n",
       "        'boundingBox': [102.7, 68, 213.7, 71, 212.9, 97.1, 102, 94],\n",
       "        'confidence': 0.989,\n",
       "        'elements': ['#/readResults/0/lines/0/words/0',\n",
       "         '#/readResults/0/lines/0/words/1']}]},\n",
       "     'JobTitles': {'type': 'array',\n",
       "      'valueArray': [{'type': 'string',\n",
       "        'valueString': 'Manager',\n",
       "        'text': 'Manager',\n",
       "        'boundingBox': [101, 101, 176, 103, 175, 120, 101, 118],\n",
       "        'page': 1,\n",
       "        'confidence': 0.99,\n",
       "        'elements': ['#/readResults/0/lines/1/words/0']}]},\n",
       "     'OtherPhones': {'type': 'array',\n",
       "      'valueArray': [{'type': 'phoneNumber',\n",
       "        'text': '+41 11 555 43 45',\n",
       "        'boundingBox': [304, 150, 420, 150, 420, 166, 304, 166],\n",
       "        'page': 1,\n",
       "        'confidence': 0.99,\n",
       "        'elements': ['#/readResults/0/lines/2/words/1',\n",
       "         '#/readResults/0/lines/2/words/2',\n",
       "         '#/readResults/0/lines/2/words/3',\n",
       "         '#/readResults/0/lines/2/words/4',\n",
       "         '#/readResults/0/lines/2/words/5']}]},\n",
       "     'MobilePhones': {'type': 'array',\n",
       "      'valueArray': [{'type': 'phoneNumber',\n",
       "        'text': '+41 99 555 12 14',\n",
       "        'boundingBox': [308, 166, 424, 166, 424, 181, 308, 181],\n",
       "        'page': 1,\n",
       "        'confidence': 0.991,\n",
       "        'elements': ['#/readResults/0/lines/3/words/1',\n",
       "         '#/readResults/0/lines/3/words/2',\n",
       "         '#/readResults/0/lines/3/words/3',\n",
       "         '#/readResults/0/lines/3/words/4',\n",
       "         '#/readResults/0/lines/3/words/5']}]},\n",
       "     'Emails': {'type': 'array',\n",
       "      'valueArray': [{'type': 'string',\n",
       "        'valueString': 'john.doe@example.com',\n",
       "        'text': 'john.doe@example.com',\n",
       "        'boundingBox': [297, 182, 446, 183, 446, 196, 296, 197],\n",
       "        'page': 1,\n",
       "        'confidence': 0.99,\n",
       "        'elements': ['#/readResults/0/lines/4/words/1']}]},\n",
       "     'Websites': {'type': 'array',\n",
       "      'valueArray': [{'type': 'string',\n",
       "        'valueString': 'cardurl.com/johndoe',\n",
       "        'text': 'cardurl.com/johndoe',\n",
       "        'boundingBox': [256, 199, 402, 198, 402, 214, 256, 214],\n",
       "        'page': 1,\n",
       "        'confidence': 0.988,\n",
       "        'elements': ['#/readResults/0/lines/5/words/0']},\n",
       "       {'type': 'string',\n",
       "        'valueString': 'www.example.com',\n",
       "        'text': 'www.example.com',\n",
       "        'boundingBox': [256, 273, 372, 273, 372, 287, 256, 287],\n",
       "        'page': 1,\n",
       "        'confidence': 0.995,\n",
       "        'elements': ['#/readResults/0/lines/9/words/0']}]},\n",
       "     'CompanyNames': {'type': 'array',\n",
       "      'valueArray': [{'type': 'string',\n",
       "        'valueString': 'Example Inc.',\n",
       "        'text': 'Example Inc.',\n",
       "        'boundingBox': [255, 227, 336, 227, 336, 242, 255, 242],\n",
       "        'page': 1,\n",
       "        'confidence': 0.989,\n",
       "        'elements': ['#/readResults/0/lines/6/words/0',\n",
       "         '#/readResults/0/lines/6/words/1']}]},\n",
       "     'Addresses': {'type': 'array',\n",
       "      'valueArray': [{'type': 'string',\n",
       "        'valueString': 'Mountain drive 22A 24300 Someplace',\n",
       "        'text': 'Mountain drive 22A 24300 Someplace',\n",
       "        'boundingBox': [257, 241, 384, 241, 384, 272, 257, 272],\n",
       "        'page': 1,\n",
       "        'confidence': 0.975,\n",
       "        'elements': ['#/readResults/0/lines/7/words/0',\n",
       "         '#/readResults/0/lines/7/words/1',\n",
       "         '#/readResults/0/lines/7/words/2',\n",
       "         '#/readResults/0/lines/8/words/0',\n",
       "         '#/readResults/0/lines/8/words/1']}]}}}]}}"
      ]
     },
     "execution_count": 37,
     "metadata": {},
     "output_type": "execute_result"
    }
   ],
   "source": [
    "get_response.json()"
   ]
  }
 ],
 "metadata": {
  "kernelspec": {
   "display_name": "Python 3",
   "language": "python",
   "name": "python3"
  },
  "language_info": {
   "codemirror_mode": {
    "name": "ipython",
    "version": 3
   },
   "file_extension": ".py",
   "mimetype": "text/x-python",
   "name": "python",
   "nbconvert_exporter": "python",
   "pygments_lexer": "ipython3",
   "version": "3.6.8"
  }
 },
 "nbformat": 4,
 "nbformat_minor": 2
}
